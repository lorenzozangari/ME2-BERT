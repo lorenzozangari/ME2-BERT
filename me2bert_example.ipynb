{
 "cells": [
  {
   "cell_type": "code",
   "execution_count": 3,
   "metadata": {},
   "outputs": [
    {
     "name": "stderr",
     "output_type": "stream",
     "text": [
      "/home/standard/.pyenv/versions/3.10.1/envs/bilaw/lib/python3.10/site-packages/huggingface_hub/file_download.py:1150: FutureWarning: `resume_download` is deprecated and will be removed in version 1.0.0. Downloads always resume when possible. If you want to force a new download, use `force_download=True`.\n",
      "  warnings.warn(\n"
     ]
    },
    {
     "name": "stdout",
     "output_type": "stream",
     "text": [
      "Faithless is he that says farewell when the road darkens.\n",
      "CARE/HARM : 0.05056\n",
      "FAIRNESS/CHEATING : 0.01845\n",
      "LOYALTY/BETRAYAL : 0.8676\n",
      "AUTHORITY/SUBVERSION : 0.01655\n",
      "PURITY/DEGRADATION : 0.06524\n",
      "\n",
      "The soul is healed by being with children.\n",
      "CARE/HARM : 0.83783\n",
      "FAIRNESS/CHEATING : 0.02016\n",
      "LOYALTY/BETRAYAL : 0.42663\n",
      "AUTHORITY/SUBVERSION : 0.00525\n",
      "PURITY/DEGRADATION : 0.61056\n",
      "\n",
      "I remembered how we had we had all come to Gatsby’s and guessed at his corruption… while he stood before us concealing an incorruptible dream…\n",
      "CARE/HARM : 0.00676\n",
      "FAIRNESS/CHEATING : 0.04518\n",
      "LOYALTY/BETRAYAL : 0.02287\n",
      "AUTHORITY/SUBVERSION : 0.00545\n",
      "PURITY/DEGRADATION : 0.64035\n",
      "\n",
      "All the variety, all the charm, all the beauty of life is made up of light and shadow, but justice must always remain clear and unbroken.\n",
      "CARE/HARM : 0.08769\n",
      "FAIRNESS/CHEATING : 0.95034\n",
      "LOYALTY/BETRAYAL : 0.05768\n",
      "AUTHORITY/SUBVERSION : 0.00725\n",
      "PURITY/DEGRADATION : 0.06396\n",
      "\n",
      "When tyranny becomes law, rebellion becomes duty.\n",
      "CARE/HARM : 0.1599\n",
      "FAIRNESS/CHEATING : 0.91123\n",
      "LOYALTY/BETRAYAL : 0.4824\n",
      "AUTHORITY/SUBVERSION : 0.96638\n",
      "PURITY/DEGRADATION : 0.02086\n",
      "\n",
      "Reality is merely an illusion, albeit a very persistent one.\n",
      "CARE/HARM : 7e-05\n",
      "FAIRNESS/CHEATING : 0.00029\n",
      "LOYALTY/BETRAYAL : 0.00025\n",
      "AUTHORITY/SUBVERSION : 0.00095\n",
      "PURITY/DEGRADATION : 0.00014\n",
      "\n"
     ]
    }
   ],
   "source": [
    "from transformers import AutoTokenizer, AutoModel, AutoConfig\n",
    "import torch\n",
    "model_name = \"lorenzozan/ME2-BERT\"\n",
    "\n",
    "\n",
    "text = [\n",
    "     'Faithless is he that says farewell when the road darkens.',\n",
    "     'The soul is healed by being with children.', \n",
    "     'I remembered how we had we had all come to Gatsby’s and guessed at his corruption… while he stood before us concealing an incorruptible dream…',\n",
    "     'All the variety, all the charm, all the beauty of life is made up of light and shadow, but justice must always remain clear and unbroken.',\n",
    "     'When tyranny becomes law, rebellion becomes duty.',\n",
    "     'Reality is merely an illusion, albeit a very persistent one.']  \n",
    "     \n",
    "max_length = 256\n",
    "\n",
    "\n",
    "\n",
    "mf_mapping = {'CH':'CARE/HARM','FC':'FAIRNESS/CHEATING', 'LB':'LOYALTY/BETRAYAL', 'AS':'AUTHORITY/SUBVERSION', 'PD': 'PURITY/DEGRADATION'}\n",
    "\n",
    "\n",
    "tokenizer = AutoTokenizer.from_pretrained(model_name, trust_remote_code=True)\n",
    "model = AutoModel.from_pretrained(model_name, trust_remote_code=True)\n",
    "\n",
    "\n",
    "encoded_input = tokenizer(\n",
    "    text,\n",
    "    max_length=max_length,  \n",
    "    padding=\"max_length\",  \n",
    "    truncation=True,  \n",
    "    return_tensors=\"pt\", \n",
    ")\n",
    "\n",
    "input_ids = encoded_input[\"input_ids\"]\n",
    "attention_mask = encoded_input[\"attention_mask\"]\n",
    "\n",
    "model.eval()  \n",
    "with torch.no_grad():\n",
    "    output = model(input_ids=input_ids, attention_mask=attention_mask, return_dict=True)\n",
    "\n",
    "for i, tt in enumerate(text):\n",
    "    print(tt)\n",
    "    for mf, score in output[i].items():\n",
    "        print(f'{mf_mapping[mf]} : {score}')\n",
    "        \n",
    "    print()\n",
    "\n",
    "\n"
   ]
  },
  {
   "cell_type": "markdown",
   "metadata": {},
   "source": [
    "You can also run the model without tha LSTM gate and/or the transformation modules."
   ]
  },
  {
   "cell_type": "code",
   "execution_count": 19,
   "metadata": {},
   "outputs": [
    {
     "name": "stdout",
     "output_type": "stream",
     "text": [
      "tensor([[0.1263, 0.4236, 0.9987, 0.0916, 0.0888]])\n"
     ]
    }
   ],
   "source": [
    "\n",
    "config = AutoConfig.from_pretrained(model_name, trust_remote_code=True)\n",
    "\n",
    "config.has_gate = False  \n",
    "config.has_trans = True  \n",
    "\n",
    "model = AutoModel.from_pretrained(model_name, config=config, trust_remote_code=True)\n",
    "text = 'I am proud of my country.'\n",
    "inputs = tokenizer(\n",
    "    text,\n",
    "    max_length=max_length,  \n",
    "    padding=\"max_length\",  \n",
    "    truncation=True,  \n",
    "    return_tensors=\"pt\", \n",
    ")\n",
    "\n",
    "with torch.no_grad():\n",
    "    print(model(**inputs))"
   ]
  }
 ],
 "metadata": {
  "kernelspec": {
   "display_name": "bilaw",
   "language": "python",
   "name": "python3"
  },
  "language_info": {
   "codemirror_mode": {
    "name": "ipython",
    "version": 3
   },
   "file_extension": ".py",
   "mimetype": "text/x-python",
   "name": "python",
   "nbconvert_exporter": "python",
   "pygments_lexer": "ipython3",
   "version": "3.10.1"
  }
 },
 "nbformat": 4,
 "nbformat_minor": 2
}
